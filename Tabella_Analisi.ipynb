{
  "nbformat": 4,
  "nbformat_minor": 0,
  "metadata": {
    "colab": {
      "name": "Tabella_Analisi.ipynb",
      "provenance": [],
      "collapsed_sections": [],
      "include_colab_link": true
    },
    "kernelspec": {
      "name": "python3",
      "display_name": "Python 3"
    }
  },
  "cells": [
    {
      "cell_type": "markdown",
      "metadata": {
        "id": "view-in-github",
        "colab_type": "text"
      },
      "source": [
        "<a href=\"https://colab.research.google.com/github/kfuentestorres/Master-BI-BDA-Project-Work/blob/master/Tabella_Analisi.ipynb\" target=\"_parent\"><img src=\"https://colab.research.google.com/assets/colab-badge.svg\" alt=\"Open In Colab\"/></a>"
      ]
    },
    {
      "cell_type": "code",
      "metadata": {
        "id": "29-NPiallmoF",
        "colab_type": "code",
        "colab": {}
      },
      "source": [
        "import pandas as pd\n",
        "import numpy as np"
      ],
      "execution_count": 1,
      "outputs": []
    },
    {
      "cell_type": "code",
      "metadata": {
        "id": "plVrqyxGvDYF",
        "colab_type": "code",
        "colab": {}
      },
      "source": [
        "data = pd.read_csv(\"ft_WebNews.csv\")\n",
        "news = data.copy()"
      ],
      "execution_count": 13,
      "outputs": []
    },
    {
      "cell_type": "markdown",
      "metadata": {
        "id": "SYjBz6PG7gJk",
        "colab_type": "text"
      },
      "source": [
        "campi che serviranno per individuare le parole legate alle fake news"
      ]
    },
    {
      "cell_type": "code",
      "metadata": {
        "id": "LYxqkyoZvGOk",
        "colab_type": "code",
        "colab": {}
      },
      "source": [
        "news['words_sottotitolo'] = [''.join(y for y in x.replace(\"'\", \" \").replace(\"’\", \" \").lower() if y.isalpha() or y.isspace()) for x in news['sottotitolo']]\n",
        "news['words_titolo'] = [''.join(y for y in x.replace(\"'\", \" \").replace(\"’\", \" \").lower() if y.isalpha() or y.isspace()) for x in news['titolo']]"
      ],
      "execution_count": 14,
      "outputs": []
    },
    {
      "cell_type": "markdown",
      "metadata": {
        "id": "rfJevLVW7rck",
        "colab_type": "text"
      },
      "source": [
        "campi che serviranno per fare analisi"
      ]
    },
    {
      "cell_type": "code",
      "metadata": {
        "id": "ENDow_6gvJVc",
        "colab_type": "code",
        "colab": {}
      },
      "source": [
        "news['caratteri_sottotitolo'] = [\"non presente\" if x == \"non presente\" else \"<100\" if len(x) < 100 else '>=100' for x in news['sottotitolo']]\n",
        "news['caratteri_testo'] = ['<500' if len(x) < 500 else '<1000' if len(x) < 1000 else '<1500' if len(x) < 1500 else '>=1500' for x in news['body']]\n",
        "news['pnumero_paragrafi'] = ['<2' if x < 2 else '<6' if x < 6 else '>=6' for x in news['paragrafi']]\n",
        "news['ora'] = [\"non presente\" if x == \"non presente\" else \"presente\" for x in news['time']]\n",
        "news['tipologia_autore'] = [\"non presente\" if x == \"non presente\" else \"sigle\" if '.' in x and len(x) < 16 else \"nome completo\" for x in news['autore']]"
      ],
      "execution_count": 15,
      "outputs": []
    },
    {
      "cell_type": "markdown",
      "metadata": {
        "id": "UK3yyxU779Og",
        "colab_type": "text"
      },
      "source": [
        "campi dei parametri che serviranno per il calcolo dell'indice di attendibilità"
      ]
    },
    {
      "cell_type": "code",
      "metadata": {
        "id": "YkLaYcW9vMUg",
        "colab_type": "code",
        "colab": {}
      },
      "source": [
        "news['p1'] = [0 if x == \"non presente\" else 1 if len(x) < 100 else 2 for x in news['sottotitolo']]\n",
        "news['p2'] = [0 if len(x) < 500 else 1 if len(x) < 1000 else 2 if len(x) < 1500 else 3 for x in news['body']]\n",
        "news['p3'] = [0 if x < 2 else 1 if x < 6 else 2 for x in news['paragrafi']]\n",
        "news['p4'] = [0 if x == \"non presente\" else 1 for x in news['time']]\n",
        "news['p5'] = [0 if x == \"non presente\" else 1 for x in news['foto']]\n",
        "news['p6'] = [0 if x == \"non presente\" else 1 for x in news['video']]\n",
        "news['p7'] = [0 if x == \"non presente\" else 1 if '.' in x and len(x) < 16 else 2 for x in news['autore']]"
      ],
      "execution_count": 16,
      "outputs": []
    },
    {
      "cell_type": "markdown",
      "metadata": {
        "id": "QuVALWfi8GrP",
        "colab_type": "text"
      },
      "source": [
        "parole legate alle fake news e cluster di parole associate"
      ]
    },
    {
      "cell_type": "code",
      "metadata": {
        "id": "wX9_lXhVvPYQ",
        "colab_type": "code",
        "colab": {}
      },
      "source": [
        "w1 = ' laboratorio '\n",
        "c1 = [' creato ', ' wuhan ', ' nato ', ' produzione ', ' uscito ', ' esistenza ', ' creata ', ' diffuso ']\n",
        "w2 = ' vitamina '\n",
        "c2 = [' guarire ', ' prevenire ', ' placare ', ' ridurre ']\n",
        "w3 = ' candeggina '\n",
        "c3 = [' diluire ', ' distruggerlo ', ' uccidere ', ' ucciderlo ', ' difendersi ']\n",
        "w4 = ' 5g '\n",
        "c4 = [' correlazione ', ' correlazioni ']\n",
        "w5 = ' alcol '\n",
        "c5 = [' eliminarlo ', ' proteggere ', ' difendersi ']\n",
        "w6 = ' metanolo '\n",
        "c6 = [' efficace ', ' rimedio ']"
      ],
      "execution_count": 17,
      "outputs": []
    },
    {
      "cell_type": "code",
      "metadata": {
        "id": "4hMfhMRovSaw",
        "colab_type": "code",
        "colab": {}
      },
      "source": [
        "news['p8'] = [0 if w1 in x and any(y in x for y in c1) \\\n",
        "              or w2 in x and any(y in x for y in c2) \\\n",
        "              or w3 in x and any(y in x for y in c3) \\\n",
        "              or w4 in x and any(y in x for y in c4) \\\n",
        "              or w5 in x and any(y in x for y in c5) \\\n",
        "              or w6 in x and any(y in x for y in c6) \\\n",
        "              else 1 for x in news['words_sottotitolo']]\n",
        "\n",
        "news['p9'] = [0 if w1 in x and any(y in x for y in c1) \\\n",
        "              or w2 in x and any(y in x for y in c2) \\\n",
        "              or w3 in x and any(y in x for y in c3) \\\n",
        "              or w4 in x and any(y in x for y in c4) \\\n",
        "              or w5 in x and any(y in x for y in c5) \\\n",
        "              or w6 in x and any(y in x for y in c6) \\\n",
        "              else 2 for x in news['words_titolo']]"
      ],
      "execution_count": 18,
      "outputs": []
    },
    {
      "cell_type": "markdown",
      "metadata": {
        "id": "OiEi3SKH8taH",
        "colab_type": "text"
      },
      "source": [
        "creazione campo per individuare le fake news trovate e campo contenente i punteggi degli articoli"
      ]
    },
    {
      "cell_type": "code",
      "metadata": {
        "id": "Y5uqB_MrvYk7",
        "colab_type": "code",
        "colab": {}
      },
      "source": [
        "news['FakeNews_flag'] = np.where((news.p8 == 0) | (news.p9 == 0), 'S', 'N')\n",
        "\n",
        "news['indicatore'] = round((news['p1'] + news['p2'] + news['p3'] + news['p4'] + news['p5'] + news['p6'] + news['p7'] + news['p8'] + news['p9']) * 5 / 15, 2)"
      ],
      "execution_count": 19,
      "outputs": []
    },
    {
      "cell_type": "markdown",
      "metadata": {
        "id": "235AnQok8oEG",
        "colab_type": "text"
      },
      "source": [
        "salvataggio della tabella finale"
      ]
    },
    {
      "cell_type": "code",
      "metadata": {
        "id": "78UyNgV1virh",
        "colab_type": "code",
        "colab": {
          "base_uri": "https://localhost:8080/",
          "height": 615
        },
        "outputId": "e4fca726-171b-42e8-88b3-4ba323f8440a"
      },
      "source": [
        "news = news.drop(['_id', 'words_sottotitolo', 'words_titolo', 'p1', 'p2', 'p3', 'p4', 'p5', 'p6', 'p7',  'p8',  'p9'], 1)\n",
        "\n",
        "news.head()"
      ],
      "execution_count": 20,
      "outputs": [
        {
          "output_type": "execute_result",
          "data": {
            "text/html": [
              "<div>\n",
              "<style scoped>\n",
              "    .dataframe tbody tr th:only-of-type {\n",
              "        vertical-align: middle;\n",
              "    }\n",
              "\n",
              "    .dataframe tbody tr th {\n",
              "        vertical-align: top;\n",
              "    }\n",
              "\n",
              "    .dataframe thead th {\n",
              "        text-align: right;\n",
              "    }\n",
              "</style>\n",
              "<table border=\"1\" class=\"dataframe\">\n",
              "  <thead>\n",
              "    <tr style=\"text-align: right;\">\n",
              "      <th></th>\n",
              "      <th>id</th>\n",
              "      <th>fonte</th>\n",
              "      <th>titolo</th>\n",
              "      <th>sottotitolo</th>\n",
              "      <th>body</th>\n",
              "      <th>paragrafi</th>\n",
              "      <th>date</th>\n",
              "      <th>time</th>\n",
              "      <th>autore</th>\n",
              "      <th>foto</th>\n",
              "      <th>video</th>\n",
              "      <th>share</th>\n",
              "      <th>url</th>\n",
              "      <th>caratteri_sottotitolo</th>\n",
              "      <th>caratteri_testo</th>\n",
              "      <th>pnumero_paragrafi</th>\n",
              "      <th>ora</th>\n",
              "      <th>FakeNews_flag</th>\n",
              "      <th>indicatore</th>\n",
              "    </tr>\n",
              "  </thead>\n",
              "  <tbody>\n",
              "    <tr>\n",
              "      <th>0</th>\n",
              "      <td>21689489</td>\n",
              "      <td>Libero</td>\n",
              "      <td>Coronavirus, i farmacisti sotto assedio: \"Così...</td>\n",
              "      <td>non presente</td>\n",
              "      <td>Le farmacie, in piena emergenza coronavirus, v...</td>\n",
              "      <td>8</td>\n",
              "      <td>31/03/2020</td>\n",
              "      <td>non presente</td>\n",
              "      <td>Paola Natali</td>\n",
              "      <td>presente</td>\n",
              "      <td>non presente</td>\n",
              "      <td>presente</td>\n",
              "      <td>https://www.liberoquotidiano.it/news/italia/21...</td>\n",
              "      <td>non presente</td>\n",
              "      <td>&gt;=1500</td>\n",
              "      <td>&gt;=6</td>\n",
              "      <td>non presente</td>\n",
              "      <td>N</td>\n",
              "      <td>3.67</td>\n",
              "    </tr>\n",
              "    <tr>\n",
              "      <th>1</th>\n",
              "      <td>21689486</td>\n",
              "      <td>Libero</td>\n",
              "      <td>Coronavirus, una \"pandemia ogni 7 anni\". Dalla...</td>\n",
              "      <td>non presente</td>\n",
              "      <td>Le pandemie sono sempre più frequenti, e il mo...</td>\n",
              "      <td>2</td>\n",
              "      <td>31/03/2020</td>\n",
              "      <td>non presente</td>\n",
              "      <td>non presente</td>\n",
              "      <td>presente</td>\n",
              "      <td>non presente</td>\n",
              "      <td>presente</td>\n",
              "      <td>https://www.liberoquotidiano.it/news/scienze-t...</td>\n",
              "      <td>non presente</td>\n",
              "      <td>&lt;1500</td>\n",
              "      <td>&lt;6</td>\n",
              "      <td>non presente</td>\n",
              "      <td>N</td>\n",
              "      <td>2.33</td>\n",
              "    </tr>\n",
              "    <tr>\n",
              "      <th>2</th>\n",
              "      <td>21689484</td>\n",
              "      <td>Libero</td>\n",
              "      <td>Coronavirus, stress, alimentazione e sonno. L'...</td>\n",
              "      <td>non presente</td>\n",
              "      <td>Tempo di stare a casa ed è possibile trasforma...</td>\n",
              "      <td>8</td>\n",
              "      <td>31/03/2020</td>\n",
              "      <td>non presente</td>\n",
              "      <td>non presente</td>\n",
              "      <td>presente</td>\n",
              "      <td>non presente</td>\n",
              "      <td>presente</td>\n",
              "      <td>https://www.liberoquotidiano.it/news/scienze-t...</td>\n",
              "      <td>non presente</td>\n",
              "      <td>&gt;=1500</td>\n",
              "      <td>&gt;=6</td>\n",
              "      <td>non presente</td>\n",
              "      <td>N</td>\n",
              "      <td>3.00</td>\n",
              "    </tr>\n",
              "    <tr>\n",
              "      <th>3</th>\n",
              "      <td>21689321</td>\n",
              "      <td>Libero</td>\n",
              "      <td>Coronavirus, seduta segreta al Senato senza di...</td>\n",
              "      <td>non presente</td>\n",
              "      <td>\"Seduta segreta al Senato\". Fonti della Lega d...</td>\n",
              "      <td>2</td>\n",
              "      <td>31/03/2020</td>\n",
              "      <td>non presente</td>\n",
              "      <td>non presente</td>\n",
              "      <td>presente</td>\n",
              "      <td>non presente</td>\n",
              "      <td>presente</td>\n",
              "      <td>https://www.liberoquotidiano.it/news/politica/...</td>\n",
              "      <td>non presente</td>\n",
              "      <td>&lt;1000</td>\n",
              "      <td>&lt;6</td>\n",
              "      <td>non presente</td>\n",
              "      <td>N</td>\n",
              "      <td>2.00</td>\n",
              "    </tr>\n",
              "    <tr>\n",
              "      <th>4</th>\n",
              "      <td>21688952</td>\n",
              "      <td>Libero</td>\n",
              "      <td>Maria Giovanna Maglie e Socci a tenaglia sul g...</td>\n",
              "      <td>non presente</td>\n",
              "      <td>Chi pagherà per tutto questo? Se lo chiedono A...</td>\n",
              "      <td>2</td>\n",
              "      <td>31/03/2020</td>\n",
              "      <td>non presente</td>\n",
              "      <td>non presente</td>\n",
              "      <td>presente</td>\n",
              "      <td>non presente</td>\n",
              "      <td>presente</td>\n",
              "      <td>https://www.liberoquotidiano.it/news/personagg...</td>\n",
              "      <td>non presente</td>\n",
              "      <td>&lt;1000</td>\n",
              "      <td>&lt;6</td>\n",
              "      <td>non presente</td>\n",
              "      <td>N</td>\n",
              "      <td>2.00</td>\n",
              "    </tr>\n",
              "  </tbody>\n",
              "</table>\n",
              "</div>"
            ],
            "text/plain": [
              "         id   fonte  ... FakeNews_flag indicatore\n",
              "0  21689489  Libero  ...             N       3.67\n",
              "1  21689486  Libero  ...             N       2.33\n",
              "2  21689484  Libero  ...             N       3.00\n",
              "3  21689321  Libero  ...             N       2.00\n",
              "4  21688952  Libero  ...             N       2.00\n",
              "\n",
              "[5 rows x 19 columns]"
            ]
          },
          "metadata": {
            "tags": []
          },
          "execution_count": 20
        }
      ]
    },
    {
      "cell_type": "code",
      "metadata": {
        "id": "JEWIHq1a7LR7",
        "colab_type": "code",
        "colab": {}
      },
      "source": [
        "news.to_csv(\"ds_webnews.csv\")"
      ],
      "execution_count": 21,
      "outputs": []
    }
  ]
}
