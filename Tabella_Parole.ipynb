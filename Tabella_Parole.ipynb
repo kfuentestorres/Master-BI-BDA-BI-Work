{
  "nbformat": 4,
  "nbformat_minor": 0,
  "metadata": {
    "colab": {
      "name": "Tabella_Parole.ipynb",
      "provenance": [],
      "collapsed_sections": [],
      "include_colab_link": true
    },
    "kernelspec": {
      "name": "python3",
      "display_name": "Python 3"
    }
  },
  "cells": [
    {
      "cell_type": "markdown",
      "metadata": {
        "id": "view-in-github",
        "colab_type": "text"
      },
      "source": [
        "<a href=\"https://colab.research.google.com/github/kfuentestorres/Master-BI-BDA-Project-Work/blob/master/Tabella_Parole.ipynb\" target=\"_parent\"><img src=\"https://colab.research.google.com/assets/colab-badge.svg\" alt=\"Open In Colab\"/></a>"
      ]
    },
    {
      "cell_type": "code",
      "metadata": {
        "id": "99p4Z5kY9pJ2",
        "colab_type": "code",
        "colab": {}
      },
      "source": [
        "import pandas as pd"
      ],
      "execution_count": 1,
      "outputs": []
    },
    {
      "cell_type": "code",
      "metadata": {
        "id": "Pqq-Icsw9z_D",
        "colab_type": "code",
        "colab": {}
      },
      "source": [
        "stop_words = ['a', 'b', 'c', 'd', 'e', 'f', 'g', 'h', 'i', 'j', 'k', 'l', 'm', 'n', 'o', 'p', 'q', 'r', 's', 't', 'u', 'v', 'w', 'x', 'y', 'z', 'il', 'lo', 'la', 'gli', 'le',\n",
        "        'un', 'uno', 'una', 'di', 'da', 'in', 'su', 'per', 'con', 'tra', 'fra', 'al', 'allo', 'alla', 'ai', 'agli', 'alle', 'dal', 'dallo', 'dalla', 'dai', 'dagli', 'dalle',\n",
        "        'del', 'dello', 'della', 'dei', 'degli', 'delle', 'nel', 'nello', 'nella', 'nei', 'negli', 'nelle', 'sul', 'sullo', 'sulla', 'sui', 'sugli', 'sulle', 'davanti',\n",
        "        'dietro', 'stante', 'durante', 'sopra', 'sotto', 'salvo', 'accanto', 'avanti', 'verso', 'presso', 'contro', 'circa', 'intorno', 'fuori', 'malgrado', 'vicino',\n",
        "        'lontano', 'dentro', 'indietro', 'insieme', 'assieme', 'oltre', 'senza', 'attraverso', 'nondimeno', 'mio', 'mia', 'miei', 'mie', 'tuo', 'tua', 'tuoi', 'tue', 'suo',\n",
        "        'sua', 'suoi', 'sue', 'nostro', 'nostra', 'nostri', 'nostre', 'vostro', 'vostra', 'vostri', 'vostre', 'loro', 'questo', 'codesto', 'cotesto', 'quello', 'ciò',\n",
        "        'questa', 'codesta', 'cotesta', 'quella', 'io', 'tu', 'egli', 'esso', 'ella', 'essa', 'noi', 'voi', 'essi', 'esse', 'me', 'mi', 'te', 'ti', 'lui', 'lei', 'ce', 'ci',\n",
        "        've', 'vi', 'se', 'si', 'ne', 'che', 'colui', 'colei', 'cui', 'chi', 'sono', 'sei', 'è', 'siamo', 'siete', 'sarebbe', 'sarà', 'essendo', 'ho', 'hai', 'ha', 'abbiamo',\n",
        "        'avete', 'hanno', 'avrebbe', 'avrà', 'avendo', 'avuto', 'un', 'all', 'dall', 'dell', 'sull', 'nell', 'quell', 'po', 'può', 'potrà', 'potrebbe', 'potuto', 'deve',\n",
        "        'dovrà', 'dovrebbe', 'dovuto', 'due', 'tre', 'quattro', 'cinque', 'sette', 'otto', 'nove', 'dieci', 'venti', 'trenta', 'quaranta', 'cinquanta', 'sessanta', 'settanta',\n",
        "        'ottanta', 'novanta', 'cento', 'primo', 'secondo', 'terzo', 'quarto', 'quinto', 'sesto', 'settimo', 'ottavo', 'nono', 'decimo', 'ma', 'però', 'anzi', 'tuttavia',\n",
        "        'pure', 'invece', 'perciò', 'quindi', 'dunque', 'pertanto', 'ebbene', 'orbene', 'né', 'neppure', 'neanche', 'nemmeno', 'sia', 'oppure', 'ossia', 'altrimenti', 'cioè',\n",
        "        'infatti', 'invero', 'difatti', 'perché', 'poiché', 'giacché', 'quando', 'mentre', 'finché', 'affinché', 'acciocché', 'qualora', 'purché', 'sebbene', 'quantunque',\n",
        "        'benché', 'nonostante', 'come', 'quasi', 'fuorché', 'tranne', 'eccetto', 'laddove', 'ah', 'oh', 'eh', 'orsù', 'urrà', 'ahimè', 'suvvia', 'basta', 'insomma', 'così',\n",
        "        'qui', 'qua', 'lì', 'là', 'già', 'allora', 'prima', 'dopo', 'ora', 'poi', 'sempre', 'mai', 'presto', 'tardi', 'intanto', 'frattanto', 'talvolta', 'spesso', 'molto',\n",
        "        'troppo', 'poco', 'più', 'meno', 'assai', 'niente', 'nulla', 'alquanto', 'altrettanto', 'anche', 'perfino', 'persino', 'altresì', 'finanche', 'abbastanza', 'almeno',\n",
        "        'ancora', 'appunto', 'attualmente', 'certamente', 'comunque', 'altrove', 'dove', 'dovunque', 'effettivamente', 'forse', 'generalmente', 'inoltre', 'insufficientemente',\n",
        "        'inutilmente', 'naturalmente', 'no', 'non', 'nuovamente', 'ovunque', 'ovviamente', 'piuttosto', 'precedentemente', 'probabilmente', 'realmente', 'realmente',\n",
        "        'semplicemente', 'sì', 'solitamente', 'soprattutto', 'specificamente', 'successivamente', 'sufficientemente', 'veramente', 'lunedì', 'martedì', 'mercoledì', 'giovedì',\n",
        "        'venerdì', 'sabato', 'domenica', 'gennaio', 'febbraio', 'marzo', 'aprile', 'maggio', 'giugno', 'luglio', 'agosto', 'settembre', 'ottobre', 'novembre', 'dicembre',\n",
        "        'alcune', 'alcuni', 'alcuno', 'altri', 'altro', 'certo', 'chiunque', 'ciascuno', 'molti', 'nessun', 'nessuno', 'ogni', 'ognuno', 'parecchi', 'parecchio', 'pochi',\n",
        "        'qualche', 'qualcosa', 'qualcuno', 'qualunque', 'tanto', 'tutti', 'tutto', 'qual', 'quale', 'quali', 'quanto', 'anno', 'bene', 'cosa', 'cose', 'data', 'esempio', 'male',\n",
        "        'scelta', 'vero', 'via', 'aperto', 'attuale', 'breve', 'chiuso', 'corto', 'differente', 'difficile', 'dissimile', 'diverso', 'entrambe', 'entrambi', 'esterno', 'facile',\n",
        "        'falso', 'grande', 'inusuale', 'inutile', 'lungo', 'impossibile', 'improbabile', 'insolito', 'insufficiente', 'maggiore', 'maggior', 'minore', 'minor', 'piccolo',\n",
        "        'pieno', 'possibile', 'probabile', 'pronto', 'semplice', 'siffatto', 'simile', 'sufficiente', 'usuale', 'utile', 'vuoto', 'interno', 'mediante', 'modo', 'ovvio',\n",
        "        'precedente', 'primi', 'propri', 'proprio', 'prossimo', 'reale', 'scelto', 'soli', 'solito', 'solo', 'soltanto', 'specifico', 'stessi', 'stesso', 'subito', 'successivo',\n",
        "        'super', 'tale', 'totale', 'totali', 'uguale', 'uguali', 'ulteriore', 'ultimi', 'ultimo', 'vari', 'vario', 'verso', 'sta', 'fa', 'ad', 'stanno',\n",
        "        'essere', 'fino', 'altre', 'avere', 'cos', 'fare', 'fatto', 'detto', 'ed', 'era', 'stata', 'questi',\n",
        "        'stato', 'aveva', 'queste', 'state', 'stati', 'tutte', 'far', 'aver', 'saranno', 'quelli', 'erano', 'finora', 'possono'\n",
        "        ]"
      ],
      "execution_count": 2,
      "outputs": []
    },
    {
      "cell_type": "code",
      "metadata": {
        "id": "q3RNnUau95fS",
        "colab_type": "code",
        "colab": {}
      },
      "source": [
        "data = pd.read_csv(\"ft_WebNews.csv\")\n",
        "x = data[[\"id\", \"body\"]]"
      ],
      "execution_count": 3,
      "outputs": []
    },
    {
      "cell_type": "code",
      "metadata": {
        "id": "ope9vfBo98m0",
        "colab_type": "code",
        "colab": {}
      },
      "source": [
        "lista_parole = []\n",
        "\n",
        "for i in x[\"id\"]:\n",
        "        mask = x[\"id\"] == i\n",
        "        a = x[mask][\"body\"].item()\n",
        "        a = a.replace(\"'\", \" \").replace(\"’\", \" \").split(\" \")\n",
        "        a = list(dict.fromkeys(a))\n",
        "        a = [x.lower() for x in a]\n",
        "        a = [''.join(y for y in x if y.isalpha()) for x in a]\n",
        "        for j in a:\n",
        "                if j not in stop_words and len(j) > 1:\n",
        "                        lista_parole.append({'id': i,\n",
        "                                             'word': j})"
      ],
      "execution_count": 4,
      "outputs": []
    },
    {
      "cell_type": "code",
      "metadata": {
        "id": "a8_OCRbO-IhG",
        "colab_type": "code",
        "colab": {
          "base_uri": "https://localhost:8080/",
          "height": 198
        },
        "outputId": "45d4b015-0f93-49a9-fcfa-3848e4565d40"
      },
      "source": [
        "ds_lista_parole = pd.DataFrame(lista_parole)\n",
        "ds_lista_parole.head()"
      ],
      "execution_count": 5,
      "outputs": [
        {
          "output_type": "execute_result",
          "data": {
            "text/html": [
              "<div>\n",
              "<style scoped>\n",
              "    .dataframe tbody tr th:only-of-type {\n",
              "        vertical-align: middle;\n",
              "    }\n",
              "\n",
              "    .dataframe tbody tr th {\n",
              "        vertical-align: top;\n",
              "    }\n",
              "\n",
              "    .dataframe thead th {\n",
              "        text-align: right;\n",
              "    }\n",
              "</style>\n",
              "<table border=\"1\" class=\"dataframe\">\n",
              "  <thead>\n",
              "    <tr style=\"text-align: right;\">\n",
              "      <th></th>\n",
              "      <th>id</th>\n",
              "      <th>word</th>\n",
              "    </tr>\n",
              "  </thead>\n",
              "  <tbody>\n",
              "    <tr>\n",
              "      <th>0</th>\n",
              "      <td>21689489</td>\n",
              "      <td>farmacie</td>\n",
              "    </tr>\n",
              "    <tr>\n",
              "      <th>1</th>\n",
              "      <td>21689489</td>\n",
              "      <td>piena</td>\n",
              "    </tr>\n",
              "    <tr>\n",
              "      <th>2</th>\n",
              "      <td>21689489</td>\n",
              "      <td>emergenza</td>\n",
              "    </tr>\n",
              "    <tr>\n",
              "      <th>3</th>\n",
              "      <td>21689489</td>\n",
              "      <td>coronavirus</td>\n",
              "    </tr>\n",
              "    <tr>\n",
              "      <th>4</th>\n",
              "      <td>21689489</td>\n",
              "      <td>vengono</td>\n",
              "    </tr>\n",
              "  </tbody>\n",
              "</table>\n",
              "</div>"
            ],
            "text/plain": [
              "         id         word\n",
              "0  21689489     farmacie\n",
              "1  21689489        piena\n",
              "2  21689489    emergenza\n",
              "3  21689489  coronavirus\n",
              "4  21689489      vengono"
            ]
          },
          "metadata": {
            "tags": []
          },
          "execution_count": 5
        }
      ]
    },
    {
      "cell_type": "code",
      "metadata": {
        "id": "YQaJGqtR-M8J",
        "colab_type": "code",
        "colab": {}
      },
      "source": [
        "ds_lista_parole.to_csv(\"ds_parole_webnews.csv\")"
      ],
      "execution_count": 6,
      "outputs": []
    }
  ]
}